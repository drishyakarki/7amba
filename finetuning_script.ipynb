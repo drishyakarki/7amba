{
 "cells": [
  {
   "cell_type": "code",
   "execution_count": 1,
   "metadata": {},
   "outputs": [
    {
     "data": {
      "application/vnd.jupyter.widget-view+json": {
       "model_id": "cf4003b510094fd7a93fd0d6c02f0be7",
       "version_major": 2,
       "version_minor": 0
      },
      "text/plain": [
       "VBox(children=(HTML(value='<center> <img\\nsrc=https://huggingface.co/front/assets/huggingface_logo-noborder.sv…"
      ]
     },
     "metadata": {},
     "output_type": "display_data"
    }
   ],
   "source": [
    "from huggingface_hub import notebook_login\n",
    "\n",
    "notebook_login()"
   ]
  },
  {
   "cell_type": "code",
   "execution_count": 1,
   "metadata": {},
   "outputs": [
    {
     "name": "stdout",
     "output_type": "stream",
     "text": [
      "DatasetDict({\n",
      "    train: Dataset({\n",
      "        features: ['conversation_id', 'model', 'conversation', 'turn', 'language', 'openai_moderation', 'redacted'],\n",
      "        num_rows: 1000000\n",
      "    })\n",
      "})\n",
      "{'conversation_id': Value(dtype='string', id=None), 'model': Value(dtype='string', id=None), 'conversation': [{'content': Value(dtype='string', id=None), 'role': Value(dtype='string', id=None)}], 'turn': Value(dtype='int64', id=None), 'language': Value(dtype='string', id=None), 'openai_moderation': [{'categories': {'harassment': Value(dtype='bool', id=None), 'harassment/threatening': Value(dtype='bool', id=None), 'hate': Value(dtype='bool', id=None), 'hate/threatening': Value(dtype='bool', id=None), 'self-harm': Value(dtype='bool', id=None), 'self-harm/instructions': Value(dtype='bool', id=None), 'self-harm/intent': Value(dtype='bool', id=None), 'sexual': Value(dtype='bool', id=None), 'sexual/minors': Value(dtype='bool', id=None), 'violence': Value(dtype='bool', id=None), 'violence/graphic': Value(dtype='bool', id=None)}, 'category_scores': {'harassment': Value(dtype='float64', id=None), 'harassment/threatening': Value(dtype='float64', id=None), 'hate': Value(dtype='float64', id=None), 'hate/threatening': Value(dtype='float64', id=None), 'self-harm': Value(dtype='float64', id=None), 'self-harm/instructions': Value(dtype='float64', id=None), 'self-harm/intent': Value(dtype='float64', id=None), 'sexual': Value(dtype='float64', id=None), 'sexual/minors': Value(dtype='float64', id=None), 'violence': Value(dtype='float64', id=None), 'violence/graphic': Value(dtype='float64', id=None)}, 'flagged': Value(dtype='bool', id=None)}], 'redacted': Value(dtype='bool', id=None)}\n"
     ]
    }
   ],
   "source": [
    "from datasets import load_dataset\n",
    "\n",
    "# Load the dataset\n",
    "ds = load_dataset(\"lmsys/lmsys-chat-1m\")\n",
    "\n",
    "# Examine the structure\n",
    "print(ds)\n",
    "print(ds[\"train\"].features)"
   ]
  },
  {
   "cell_type": "code",
   "execution_count": 2,
   "metadata": {},
   "outputs": [
    {
     "data": {
      "text/plain": [
       "2"
      ]
     },
     "execution_count": 2,
     "metadata": {},
     "output_type": "execute_result"
    }
   ],
   "source": [
    "len(ds[\"train\"][\"conversation\"][0])"
   ]
  },
  {
   "cell_type": "code",
   "execution_count": 3,
   "metadata": {},
   "outputs": [],
   "source": [
    "sample1 = ds[\"train\"][\"conversation\"][0]"
   ]
  },
  {
   "cell_type": "code",
   "execution_count": 4,
   "metadata": {},
   "outputs": [
    {
     "data": {
      "text/plain": [
       "[{'content': 'how can identity protection services help protect me against identity theft',\n",
       "  'role': 'user'},\n",
       " {'content': \"Identity protection services can help protect you against identity theft in several ways:\\n\\n1. Monitoring: Many identity protection services monitor your credit reports, public records, and other sources for signs of identity theft. If they detect any suspicious activity, they will alert you so you can take action.\\n2. Credit freeze: Some identity protection services can help you freeze your credit, which makes it more difficult for thieves to open new accounts in your name.\\n3. Identity theft insurance: Some identity protection services offer insurance that can help you recover financially if you become a victim of identity theft.\\n4. Assistance: Many identity protection services offer assistance if you become a victim of identity theft. They can help you file a police report, contact credit bureaus, and other steps to help you restore your identity.\\n\\nOverall, identity protection services can provide you with peace of mind and help you take proactive steps to protect your identity. However, it's important to note that no service can completely guarantee that you will never become a victim of identity theft. It's still important to take steps to protect your own identity, such as being cautious with personal information and regularly monitoring your credit reports.\",\n",
       "  'role': 'assistant'}]"
      ]
     },
     "execution_count": 4,
     "metadata": {},
     "output_type": "execute_result"
    }
   ],
   "source": [
    "sample1"
   ]
  },
  {
   "cell_type": "code",
   "execution_count": 5,
   "metadata": {},
   "outputs": [
    {
     "data": {
      "text/plain": [
       "[{'content': \"Beside OFAC's selective sanction that target the listed individiuals and entities, please elaborate on the other types of US's sanctions, for example, comprehensive and sectoral sanctions. Please be detailed as much as possible\",\n",
       "  'role': 'user'},\n",
       " {'content': \"The United States has a number of different types of sanctions that it can use to achieve its foreign policy goals, including both selective and comprehensive sanctions.\\n\\nSelective sanctions are targeted at specific individuals or entities that are believed to be engaged in activities that are contrary to US interests. These sanctions can take a variety of forms, including asset freezes, travel bans, and restrictions on financial transactions. The Office of Foreign Assets Control (OFAC) is the US government agency responsible for implementing and enforcing these types of sanctions.\\n\\nComprehensive sanctions, on the other hand, are more broadly based and aim to restrict entire sectors of a country's economy or to impose a broad ban on certain types of activities. Comprehensive sanctions can be used to achieve a variety of foreign policy goals, such as punishing a country for human rights abuses or obstructing US foreign policy.\\n\\nSectoral sanctions are a type of comprehensive sanction that target specific sectors of a country's economy. These sanctions are intended to have a broader impact on a country's economy and can be used to target key industries such as oil and gas, banking, or transportation. Sectoral sanctions can include restrictions on the import or export of goods or services, as well as restrictions on investment in certain sectors.\\n\\nAnother type of comprehensive sanction is the ban on US exports to a certain country. This type of sanction can be used to punish a country for engaging in activities that are contrary to US interests, such as selling weapons to terrorist groups or engaging in human rights abuses.\\n\\nIt's worth noting that the US has a wide range of tools at its disposal when it comes to imposing economic sanctions, and the specific type of sanction used will depend on the particular situation and the goals of the US government. Additionally, the US may use a combination of different types of sanctions in order to achieve its objectives.\",\n",
       "  'role': 'assistant'},\n",
       " {'content': \"are there other types of US sanctions that you didn't specified earlier? Please elaborate more\",\n",
       "  'role': 'user'},\n",
       " {'content': \"Yes, there are several other types of US sanctions that I haven't mentioned earlier.\\n\\nOne type of sanction that the US uses is the visa ban, which restricts the entry of certain individuals into the US. This type of sanction can be used to punish individuals who are believed to be engaged in activities that are contrary to US interests, such as human rights abuses or the proliferation of weapons of mass destruction.\\n\\nAnother type of sanction that the US uses is the exclusion from the US financial system. This type of sanction can be used to prevent individuals or entities from accessing the US financial system, which can have a significant impact on their ability to conduct business.\\n\\nThe US can also impose sanctions on foreign governments, organizations, or individuals by imposing restrictions on their ability to access the US market. This can include restrictions on the import or export of goods or services, as well as restrictions on investment in the US.\\n\\nThe US can also use targeted sanctions against specific individuals or entities, such as imposing asset freezes or travel bans on specific individuals or entities.\\n\\nAnother type of sanction that the US uses is the blocking of property and interests in property. This can include the freezing of assets or the prohibition of transactions involving specific property.\\n\\nFinally, the US can use non-economic sanctions, such as diplomatic isolation, public statements of condemnation, and other measures to isolate or stigmatize a target country or entity.\\n\\nIt's important to note that the US has a wide range of tools at its disposal when it comes to imposing sanctions, and the specific type of sanction used will depend on the particular situation and the goals of the US government.\",\n",
       "  'role': 'assistant'},\n",
       " {'content': \"please make organized conclusion in bullet list on all types of US's sanctions that you have had given the answers\",\n",
       "  'role': 'user'},\n",
       " {'content': \"* Selective sanctions: targeted at specific individuals or entities that are believed to be engaged in activities that are contrary to US interests. Examples include asset freezes and travel bans.\\n* Comprehensive sanctions: aim to restrict entire sectors of a country's economy or to impose a broad ban on certain types of activities. Examples include restrictions on the import or export of goods or services, as well as restrictions on investment in certain sectors.\\n* Sectoral sanctions: target specific sectors of a country's economy. Examples include restrictions on the import or export of goods or services, as well as restrictions on investment in certain sectors.\\n* Ban on US exports: used to punish a country for engaging in activities that are contrary to US interests.\\n* Visa ban: restricts the entry of certain individuals into the US. Can be used to punish individuals who are believed to be engaged in activities that are contrary to US interests.\\n* Exclusion from the US financial system: prevents individuals or entities from accessing the US financial system. Can have a significant impact on their ability to conduct business.\\n* Restrictions on access to the US market: can include restrictions on the import or export of goods or services, as well as restrictions on investment in the US.\\n* Targeted sanctions against specific individuals or entities: can include imposing asset freezes or travel bans on specific individuals or entities.\\n* Blocking of property and interests in property: can include the freezing of assets or the prohibition of transactions involving specific property.\\n* Non-economic sanctions: can include diplomatic isolation, public statements of condemnation, and other measures to isolate or stigmatize a target country or entity.\\n\\nIt's important to note that the US has a wide range of tools at its disposal when it comes to imposing sanctions, and the specific type of sanction used will depend on the particular situation and the goals of the US government.\",\n",
       "  'role': 'assistant'},\n",
       " {'content': 'can you please revise the answer above again, but this time, make sure to specify which types of sanctions are the sub-category',\n",
       "  'role': 'user'},\n",
       " {'content': \"Sure, here is a revised list of the different types of US sanctions, with the sub-categories included:\\n\\n* Selective sanctions:\\n\\t+ Targeted: aimed at specific individuals or entities\\n\\t+ Comprehensive: aimed at entire sectors of a country's economy or at broadly banning certain activities\\n* Comprehensive sanctions:\\n\\t+ Sectoral: target specific sectors of a country's economy\\n* Sectoral sanctions:\\n\\t+ Targeted: aimed at specific sectors of a country's economy\\n* Ban on US exports:\\n\\t+ Used to punish a country for engaging in activities that are contrary to US interests\\n* Visa ban:\\n\\t+ Used to restrict the entry of certain individuals into the US\\n* Exclusion from the US financial system:\\n\\t+ Prevents individuals or entities from accessing the US financial system\\n* Restrictions on access to the US market:\\n\\t+ Can include restrictions on the import or export of goods or services, as well as restrictions on investment in the US\\n* Targeted sanctions against specific individuals or entities:\\n\\t+ Imposing asset freezes or travel bans on specific individuals or entities\\n* Blocking of property and interests in property:\\n\\t+ Freezing of assets or prohibition of transactions involving specific property\\n* Non-economic sanctions:\\n\\t+ Diplomatic isolation, public statements of condemnation, and other measures to isolate or stigmatize a target country or entity\\n\\nIt's important to note that the US has a wide range of tools at its disposal when it comes to imposing sanctions, and the specific type of sanction used will depend on the particular situation and the goals of the US government.\",\n",
       "  'role': 'assistant'},\n",
       " {'content': 'if you see a person name stating that it is the registrar of a company in Malta, is registrar is a position and if so, what does he/she do?',\n",
       "  'role': 'user'},\n",
       " {'content': '', 'role': 'assistant'},\n",
       " {'content': \"if you see a person's name stating that it is the registrar of a company in Malta, is registrar a position in that company? and if so, what does he/she do?\",\n",
       "  'role': 'user'},\n",
       " {'content': '', 'role': 'assistant'}]"
      ]
     },
     "execution_count": 5,
     "metadata": {},
     "output_type": "execute_result"
    }
   ],
   "source": [
    "sample2 = ds[\"train\"][\"conversation\"][1]\n",
    "sample2"
   ]
  },
  {
   "cell_type": "code",
   "execution_count": 6,
   "metadata": {},
   "outputs": [],
   "source": [
    "processed_conv = \"\"\n",
    "processed_conversations = []\n",
    "\n",
    "for turn in sample2:\n",
    "    if turn[\"role\"] == \"user\":\n",
    "        processed_conv += f\"User: {turn['content']}\\n\"\n",
    "    elif turn[\"role\"] == \"assistant\":\n",
    "        processed_conv += f\"Assistant: {turn['content']}\\n\"\n",
    "processed_conversations.append(processed_conv.strip())"
   ]
  },
  {
   "cell_type": "code",
   "execution_count": 7,
   "metadata": {},
   "outputs": [
    {
     "data": {
      "text/plain": [
       "[\"User: Beside OFAC's selective sanction that target the listed individiuals and entities, please elaborate on the other types of US's sanctions, for example, comprehensive and sectoral sanctions. Please be detailed as much as possible\\nAssistant: The United States has a number of different types of sanctions that it can use to achieve its foreign policy goals, including both selective and comprehensive sanctions.\\n\\nSelective sanctions are targeted at specific individuals or entities that are believed to be engaged in activities that are contrary to US interests. These sanctions can take a variety of forms, including asset freezes, travel bans, and restrictions on financial transactions. The Office of Foreign Assets Control (OFAC) is the US government agency responsible for implementing and enforcing these types of sanctions.\\n\\nComprehensive sanctions, on the other hand, are more broadly based and aim to restrict entire sectors of a country's economy or to impose a broad ban on certain types of activities. Comprehensive sanctions can be used to achieve a variety of foreign policy goals, such as punishing a country for human rights abuses or obstructing US foreign policy.\\n\\nSectoral sanctions are a type of comprehensive sanction that target specific sectors of a country's economy. These sanctions are intended to have a broader impact on a country's economy and can be used to target key industries such as oil and gas, banking, or transportation. Sectoral sanctions can include restrictions on the import or export of goods or services, as well as restrictions on investment in certain sectors.\\n\\nAnother type of comprehensive sanction is the ban on US exports to a certain country. This type of sanction can be used to punish a country for engaging in activities that are contrary to US interests, such as selling weapons to terrorist groups or engaging in human rights abuses.\\n\\nIt's worth noting that the US has a wide range of tools at its disposal when it comes to imposing economic sanctions, and the specific type of sanction used will depend on the particular situation and the goals of the US government. Additionally, the US may use a combination of different types of sanctions in order to achieve its objectives.\\nUser: are there other types of US sanctions that you didn't specified earlier? Please elaborate more\\nAssistant: Yes, there are several other types of US sanctions that I haven't mentioned earlier.\\n\\nOne type of sanction that the US uses is the visa ban, which restricts the entry of certain individuals into the US. This type of sanction can be used to punish individuals who are believed to be engaged in activities that are contrary to US interests, such as human rights abuses or the proliferation of weapons of mass destruction.\\n\\nAnother type of sanction that the US uses is the exclusion from the US financial system. This type of sanction can be used to prevent individuals or entities from accessing the US financial system, which can have a significant impact on their ability to conduct business.\\n\\nThe US can also impose sanctions on foreign governments, organizations, or individuals by imposing restrictions on their ability to access the US market. This can include restrictions on the import or export of goods or services, as well as restrictions on investment in the US.\\n\\nThe US can also use targeted sanctions against specific individuals or entities, such as imposing asset freezes or travel bans on specific individuals or entities.\\n\\nAnother type of sanction that the US uses is the blocking of property and interests in property. This can include the freezing of assets or the prohibition of transactions involving specific property.\\n\\nFinally, the US can use non-economic sanctions, such as diplomatic isolation, public statements of condemnation, and other measures to isolate or stigmatize a target country or entity.\\n\\nIt's important to note that the US has a wide range of tools at its disposal when it comes to imposing sanctions, and the specific type of sanction used will depend on the particular situation and the goals of the US government.\\nUser: please make organized conclusion in bullet list on all types of US's sanctions that you have had given the answers\\nAssistant: * Selective sanctions: targeted at specific individuals or entities that are believed to be engaged in activities that are contrary to US interests. Examples include asset freezes and travel bans.\\n* Comprehensive sanctions: aim to restrict entire sectors of a country's economy or to impose a broad ban on certain types of activities. Examples include restrictions on the import or export of goods or services, as well as restrictions on investment in certain sectors.\\n* Sectoral sanctions: target specific sectors of a country's economy. Examples include restrictions on the import or export of goods or services, as well as restrictions on investment in certain sectors.\\n* Ban on US exports: used to punish a country for engaging in activities that are contrary to US interests.\\n* Visa ban: restricts the entry of certain individuals into the US. Can be used to punish individuals who are believed to be engaged in activities that are contrary to US interests.\\n* Exclusion from the US financial system: prevents individuals or entities from accessing the US financial system. Can have a significant impact on their ability to conduct business.\\n* Restrictions on access to the US market: can include restrictions on the import or export of goods or services, as well as restrictions on investment in the US.\\n* Targeted sanctions against specific individuals or entities: can include imposing asset freezes or travel bans on specific individuals or entities.\\n* Blocking of property and interests in property: can include the freezing of assets or the prohibition of transactions involving specific property.\\n* Non-economic sanctions: can include diplomatic isolation, public statements of condemnation, and other measures to isolate or stigmatize a target country or entity.\\n\\nIt's important to note that the US has a wide range of tools at its disposal when it comes to imposing sanctions, and the specific type of sanction used will depend on the particular situation and the goals of the US government.\\nUser: can you please revise the answer above again, but this time, make sure to specify which types of sanctions are the sub-category\\nAssistant: Sure, here is a revised list of the different types of US sanctions, with the sub-categories included:\\n\\n* Selective sanctions:\\n\\t+ Targeted: aimed at specific individuals or entities\\n\\t+ Comprehensive: aimed at entire sectors of a country's economy or at broadly banning certain activities\\n* Comprehensive sanctions:\\n\\t+ Sectoral: target specific sectors of a country's economy\\n* Sectoral sanctions:\\n\\t+ Targeted: aimed at specific sectors of a country's economy\\n* Ban on US exports:\\n\\t+ Used to punish a country for engaging in activities that are contrary to US interests\\n* Visa ban:\\n\\t+ Used to restrict the entry of certain individuals into the US\\n* Exclusion from the US financial system:\\n\\t+ Prevents individuals or entities from accessing the US financial system\\n* Restrictions on access to the US market:\\n\\t+ Can include restrictions on the import or export of goods or services, as well as restrictions on investment in the US\\n* Targeted sanctions against specific individuals or entities:\\n\\t+ Imposing asset freezes or travel bans on specific individuals or entities\\n* Blocking of property and interests in property:\\n\\t+ Freezing of assets or prohibition of transactions involving specific property\\n* Non-economic sanctions:\\n\\t+ Diplomatic isolation, public statements of condemnation, and other measures to isolate or stigmatize a target country or entity\\n\\nIt's important to note that the US has a wide range of tools at its disposal when it comes to imposing sanctions, and the specific type of sanction used will depend on the particular situation and the goals of the US government.\\nUser: if you see a person name stating that it is the registrar of a company in Malta, is registrar is a position and if so, what does he/she do?\\nAssistant: \\nUser: if you see a person's name stating that it is the registrar of a company in Malta, is registrar a position in that company? and if so, what does he/she do?\\nAssistant:\"]"
      ]
     },
     "execution_count": 7,
     "metadata": {},
     "output_type": "execute_result"
    }
   ],
   "source": [
    "processed_conversations"
   ]
  },
  {
   "cell_type": "code",
   "execution_count": 8,
   "metadata": {},
   "outputs": [
    {
     "name": "stderr",
     "output_type": "stream",
     "text": [
      "Special tokens have been added in the vocabulary, make sure the associated word embeddings are fine-tuned or trained.\n"
     ]
    }
   ],
   "source": [
    "from transformers import AutoTokenizer\n",
    "\n",
    "tokenizer = AutoTokenizer.from_pretrained(\"state-spaces/mamba-2.8b-hf\")"
   ]
  },
  {
   "cell_type": "code",
   "execution_count": 9,
   "metadata": {},
   "outputs": [
    {
     "name": "stderr",
     "output_type": "stream",
     "text": [
      "Asking to truncate to max_length but no maximum length is provided and the model has no predefined maximum length. Default to no truncation.\n"
     ]
    }
   ],
   "source": [
    "tokenized = tokenizer(processed_conversations, padding=True, truncation=True, return_tensors=\"pt\")"
   ]
  },
  {
   "cell_type": "code",
   "execution_count": 10,
   "metadata": {},
   "outputs": [
    {
     "data": {
      "text/plain": [
       "{'input_ids': tensor([[ 6989,    27, 33007,  ...,  6717,  5567,    27]]), 'attention_mask': tensor([[1, 1, 1,  ..., 1, 1, 1]])}"
      ]
     },
     "execution_count": 10,
     "metadata": {},
     "output_type": "execute_result"
    }
   ],
   "source": [
    "tokenized"
   ]
  },
  {
   "cell_type": "code",
   "execution_count": 11,
   "metadata": {},
   "outputs": [
    {
     "data": {
      "text/plain": [
       "\"User: Beside OFAC's selective sanction that target the listed individiuals and entities, please elaborate on the other types of US's sanctions, for example, comprehensive and sectoral sanctions. Please be detailed as much as possible\\nAssistant: The United States has a number of different types of sanctions that it can use to achieve its foreign policy goals, including both selective and comprehensive sanctions.\\n\\nSelective sanctions are targeted at specific individuals or entities that are believed to be engaged in activities that are contrary to US interests. These sanctions can take a variety of forms, including asset freezes, travel bans, and restrictions on financial transactions. The Office of Foreign Assets Control (OFAC) is the US government agency responsible for implementing and enforcing these types of sanctions.\\n\\nComprehensive sanctions, on the other hand, are more broadly based and aim to restrict entire sectors of a country's economy or to impose a broad ban on certain types of activities. Comprehensive sanctions can be used to achieve a variety of foreign policy goals, such as punishing a country for human rights abuses or obstructing US foreign policy.\\n\\nSectoral sanctions are a type of comprehensive sanction that target specific sectors of a country's economy. These sanctions are intended to have a broader impact on a country's economy and can be used to target key industries such as oil and gas, banking, or transportation. Sectoral sanctions can include restrictions on the import or export of goods or services, as well as restrictions on investment in certain sectors.\\n\\nAnother type of comprehensive sanction is the ban on US exports to a certain country. This type of sanction can be used to punish a country for engaging in activities that are contrary to US interests, such as selling weapons to terrorist groups or engaging in human rights abuses.\\n\\nIt's worth noting that the US has a wide range of tools at its disposal when it comes to imposing economic sanctions, and the specific type of sanction used will depend on the particular situation and the goals of the US government. Additionally, the US may use a combination of different types of sanctions in order to achieve its objectives.\\nUser: are there other types of US sanctions that you didn't specified earlier? Please elaborate more\\nAssistant: Yes, there are several other types of US sanctions that I haven't mentioned earlier.\\n\\nOne type of sanction that the US uses is the visa ban, which restricts the entry of certain individuals into the US. This type of sanction can be used to punish individuals who are believed to be engaged in activities that are contrary to US interests, such as human rights abuses or the proliferation of weapons of mass destruction.\\n\\nAnother type of sanction that the US uses is the exclusion from the US financial system. This type of sanction can be used to prevent individuals or entities from accessing the US financial system, which can have a significant impact on their ability to conduct business.\\n\\nThe US can also impose sanctions on foreign governments, organizations, or individuals by imposing restrictions on their ability to access the US market. This can include restrictions on the import or export of goods or services, as well as restrictions on investment in the US.\\n\\nThe US can also use targeted sanctions against specific individuals or entities, such as imposing asset freezes or travel bans on specific individuals or entities.\\n\\nAnother type of sanction that the US uses is the blocking of property and interests in property. This can include the freezing of assets or the prohibition of transactions involving specific property.\\n\\nFinally, the US can use non-economic sanctions, such as diplomatic isolation, public statements of condemnation, and other measures to isolate or stigmatize a target country or entity.\\n\\nIt's important to note that the US has a wide range of tools at its disposal when it comes to imposing sanctions, and the specific type of sanction used will depend on the particular situation and the goals of the US government.\\nUser: please make organized conclusion in bullet list on all types of US's sanctions that you have had given the answers\\nAssistant: * Selective sanctions: targeted at specific individuals or entities that are believed to be engaged in activities that are contrary to US interests. Examples include asset freezes and travel bans.\\n* Comprehensive sanctions: aim to restrict entire sectors of a country's economy or to impose a broad ban on certain types of activities. Examples include restrictions on the import or export of goods or services, as well as restrictions on investment in certain sectors.\\n* Sectoral sanctions: target specific sectors of a country's economy. Examples include restrictions on the import or export of goods or services, as well as restrictions on investment in certain sectors.\\n* Ban on US exports: used to punish a country for engaging in activities that are contrary to US interests.\\n* Visa ban: restricts the entry of certain individuals into the US. Can be used to punish individuals who are believed to be engaged in activities that are contrary to US interests.\\n* Exclusion from the US financial system: prevents individuals or entities from accessing the US financial system. Can have a significant impact on their ability to conduct business.\\n* Restrictions on access to the US market: can include restrictions on the import or export of goods or services, as well as restrictions on investment in the US.\\n* Targeted sanctions against specific individuals or entities: can include imposing asset freezes or travel bans on specific individuals or entities.\\n* Blocking of property and interests in property: can include the freezing of assets or the prohibition of transactions involving specific property.\\n* Non-economic sanctions: can include diplomatic isolation, public statements of condemnation, and other measures to isolate or stigmatize a target country or entity.\\n\\nIt's important to note that the US has a wide range of tools at its disposal when it comes to imposing sanctions, and the specific type of sanction used will depend on the particular situation and the goals of the US government.\\nUser: can you please revise the answer above again, but this time, make sure to specify which types of sanctions are the sub-category\\nAssistant: Sure, here is a revised list of the different types of US sanctions, with the sub-categories included:\\n\\n* Selective sanctions:\\n\\t+ Targeted: aimed at specific individuals or entities\\n\\t+ Comprehensive: aimed at entire sectors of a country's economy or at broadly banning certain activities\\n* Comprehensive sanctions:\\n\\t+ Sectoral: target specific sectors of a country's economy\\n* Sectoral sanctions:\\n\\t+ Targeted: aimed at specific sectors of a country's economy\\n* Ban on US exports:\\n\\t+ Used to punish a country for engaging in activities that are contrary to US interests\\n* Visa ban:\\n\\t+ Used to restrict the entry of certain individuals into the US\\n* Exclusion from the US financial system:\\n\\t+ Prevents individuals or entities from accessing the US financial system\\n* Restrictions on access to the US market:\\n\\t+ Can include restrictions on the import or export of goods or services, as well as restrictions on investment in the US\\n* Targeted sanctions against specific individuals or entities:\\n\\t+ Imposing asset freezes or travel bans on specific individuals or entities\\n* Blocking of property and interests in property:\\n\\t+ Freezing of assets or prohibition of transactions involving specific property\\n* Non-economic sanctions:\\n\\t+ Diplomatic isolation, public statements of condemnation, and other measures to isolate or stigmatize a target country or entity\\n\\nIt's important to note that the US has a wide range of tools at its disposal when it comes to imposing sanctions, and the specific type of sanction used will depend on the particular situation and the goals of the US government.\\nUser: if you see a person name stating that it is the registrar of a company in Malta, is registrar is a position and if so, what does he/she do?\\nAssistant: \\nUser: if you see a person's name stating that it is the registrar of a company in Malta, is registrar a position in that company? and if so, what does he/she do?\\nAssistant:\""
      ]
     },
     "execution_count": 11,
     "metadata": {},
     "output_type": "execute_result"
    }
   ],
   "source": [
    "de_tokenized = tokenizer.decode(tokenized[\"input_ids\"][0])\n",
    "de_tokenized"
   ]
  },
  {
   "cell_type": "code",
   "execution_count": 12,
   "metadata": {},
   "outputs": [
    {
     "data": {
      "text/plain": [
       "{'input_ids': tensor([[ 6989,    27, 33007,   504,  3481,  1934,   434, 13687, 25162,   326,\n",
       "          2303,   253,  7117, 14374,    74,   780,    84,   285, 14429,    13,\n",
       "          4496, 21184,   327,   253,   643,  3510,   273,  1982,   434, 17634,\n",
       "            13,   323,  1650,    13, 11088,   285,  8776,   267, 17634,    15,\n",
       "          7764,   320,  7000,   347,  1199,   347,  1896,   187,  6717,  5567,\n",
       "            27,   380,  1986,  2077,   556,   247,  1180,   273,  1027,  3510,\n",
       "           273, 17634,   326,   352,   476,   897,   281,  5115,   697,  5639,\n",
       "          3646,  7342,    13,  1690,  1097, 13687,   285, 11088, 17634,    15,\n",
       "           187,   187, 10004,   422, 17634,   403, 10522,   387,  2173,  4292,\n",
       "           390, 14429,   326,   403,  6566,   281,   320,  9583,   275,  4712,\n",
       "           326,   403, 10214,   281,  1982,  6284,    15,  2053, 17634,   476,\n",
       "          1379,   247,  5235,   273,  4948,    13,  1690, 15231,  1959, 13505,\n",
       "            13,  4288, 44464,    13,   285, 13133,   327,  4832, 13122,    15,\n",
       "           380,  7454,   273, 15839,  2903,  1507,  9175,   313, 10327,  1934,\n",
       "            10,   310,   253,  1982,  2208,  6757,  5506,   323, 16994,   285,\n",
       "         37703,   841,  3510,   273, 17634,    15,   187,   187,  2115, 43334,\n",
       "         17634,    13,   327,   253,   643,  1133,    13,   403,   625, 21450,\n",
       "          1754,   285,  4388,   281,  4656,  2862, 19465,   273,   247,  2586,\n",
       "           434,  6982,   390,   281, 16209,   247,  3862,  8913,   327,  2176,\n",
       "          3510,   273,  4712,    15, 48583, 17634,   476,   320,   908,   281,\n",
       "          5115,   247,  5235,   273,  5639,  3646,  7342,    13,   824,   347,\n",
       "          5419,  3647,   247,  2586,   323,  1966,  3570, 35703,   390, 23040,\n",
       "           272,  1982,  5639,  3646,    15,   187,   187,    52,  7720,   267,\n",
       "         17634,   403,   247,  1511,   273, 11088, 25162,   326,  2303,  2173,\n",
       "         19465,   273,   247,  2586,   434,  6982,    15,  2053, 17634,   403,\n",
       "          6034,   281,   452,   247, 16055,  3486,   327,   247,  2586,   434,\n",
       "          6982,   285,   476,   320,   908,   281,  2303,  2234, 17057,   824,\n",
       "           347,  4166,   285,  3678,    13, 19714,    13,   390, 13120,    15,\n",
       "         48899,   267, 17634,   476,  2486, 13133,   327,   253,  1395,   390,\n",
       "         13474,   273, 10229,   390,  3238,    13,   347,   973,   347, 13133,\n",
       "           327,  8149,   275,  2176, 19465,    15,   187,   187,  8195,  1511,\n",
       "           273, 11088, 25162,   310,   253,  8913,   327,  1982, 24217,   281,\n",
       "           247,  2176,  2586,    15,   831,  1511,   273, 25162,   476,   320,\n",
       "           908,   281, 21854,   247,  2586,   323, 15966,   275,  4712,   326,\n",
       "           403, 10214,   281,  1982,  6284,    13,   824,   347, 10156,  8914,\n",
       "           281, 17150,  2390,   390, 15966,   275,  1966,  3570, 35703,    15,\n",
       "           187,   187,  1147,   434,  4409, 15806,   326,   253,  1982,   556,\n",
       "           247,  4618,  2491,   273,  5657,   387,   697, 23585,   672,   352,\n",
       "          3249,   281, 23254,  5054, 17634,    13,   285,   253,  2173,  1511,\n",
       "           273, 25162,   908,   588,  3469,   327,   253,  1798,  4112,   285,\n",
       "           253,  7342,   273,   253,  1982,  2208,    15,  9157,    13,   253,\n",
       "          1982,   778,   897,   247,  5019,   273,  1027,  3510,   273, 17634,\n",
       "           275,  1340,   281,  5115,   697, 16566,    15,   187,  6989,    27,\n",
       "           403,   627,   643,  3510,   273,  1982, 17634,   326,   368,  1904,\n",
       "           626,  7616,  4321,    32,  7764, 21184,   625,   187,  6717,  5567,\n",
       "            27,  6279,    13,   627,   403,  2067,   643,  3510,   273,  1982,\n",
       "         17634,   326,   309,  6468,   626,  5393,  4321,    15,   187,   187,\n",
       "          4041,  1511,   273, 25162,   326,   253,  1982,  4648,   310,   253,\n",
       "         25105,  8913,    13,   534, 45798,   253,  5857,   273,  2176,  4292,\n",
       "           715,   253,  1982,    15,   831,  1511,   273, 25162,   476,   320,\n",
       "           908,   281, 21854,  4292,   665,   403,  6566,   281,   320,  9583,\n",
       "           275,  4712]]), 'attention_mask': tensor([[1, 1, 1, 1, 1, 1, 1, 1, 1, 1, 1, 1, 1, 1, 1, 1, 1, 1, 1, 1, 1, 1, 1, 1,\n",
       "         1, 1, 1, 1, 1, 1, 1, 1, 1, 1, 1, 1, 1, 1, 1, 1, 1, 1, 1, 1, 1, 1, 1, 1,\n",
       "         1, 1, 1, 1, 1, 1, 1, 1, 1, 1, 1, 1, 1, 1, 1, 1, 1, 1, 1, 1, 1, 1, 1, 1,\n",
       "         1, 1, 1, 1, 1, 1, 1, 1, 1, 1, 1, 1, 1, 1, 1, 1, 1, 1, 1, 1, 1, 1, 1, 1,\n",
       "         1, 1, 1, 1, 1, 1, 1, 1, 1, 1, 1, 1, 1, 1, 1, 1, 1, 1, 1, 1, 1, 1, 1, 1,\n",
       "         1, 1, 1, 1, 1, 1, 1, 1, 1, 1, 1, 1, 1, 1, 1, 1, 1, 1, 1, 1, 1, 1, 1, 1,\n",
       "         1, 1, 1, 1, 1, 1, 1, 1, 1, 1, 1, 1, 1, 1, 1, 1, 1, 1, 1, 1, 1, 1, 1, 1,\n",
       "         1, 1, 1, 1, 1, 1, 1, 1, 1, 1, 1, 1, 1, 1, 1, 1, 1, 1, 1, 1, 1, 1, 1, 1,\n",
       "         1, 1, 1, 1, 1, 1, 1, 1, 1, 1, 1, 1, 1, 1, 1, 1, 1, 1, 1, 1, 1, 1, 1, 1,\n",
       "         1, 1, 1, 1, 1, 1, 1, 1, 1, 1, 1, 1, 1, 1, 1, 1, 1, 1, 1, 1, 1, 1, 1, 1,\n",
       "         1, 1, 1, 1, 1, 1, 1, 1, 1, 1, 1, 1, 1, 1, 1, 1, 1, 1, 1, 1, 1, 1, 1, 1,\n",
       "         1, 1, 1, 1, 1, 1, 1, 1, 1, 1, 1, 1, 1, 1, 1, 1, 1, 1, 1, 1, 1, 1, 1, 1,\n",
       "         1, 1, 1, 1, 1, 1, 1, 1, 1, 1, 1, 1, 1, 1, 1, 1, 1, 1, 1, 1, 1, 1, 1, 1,\n",
       "         1, 1, 1, 1, 1, 1, 1, 1, 1, 1, 1, 1, 1, 1, 1, 1, 1, 1, 1, 1, 1, 1, 1, 1,\n",
       "         1, 1, 1, 1, 1, 1, 1, 1, 1, 1, 1, 1, 1, 1, 1, 1, 1, 1, 1, 1, 1, 1, 1, 1,\n",
       "         1, 1, 1, 1, 1, 1, 1, 1, 1, 1, 1, 1, 1, 1, 1, 1, 1, 1, 1, 1, 1, 1, 1, 1,\n",
       "         1, 1, 1, 1, 1, 1, 1, 1, 1, 1, 1, 1, 1, 1, 1, 1, 1, 1, 1, 1, 1, 1, 1, 1,\n",
       "         1, 1, 1, 1, 1, 1, 1, 1, 1, 1, 1, 1, 1, 1, 1, 1, 1, 1, 1, 1, 1, 1, 1, 1,\n",
       "         1, 1, 1, 1, 1, 1, 1, 1, 1, 1, 1, 1, 1, 1, 1, 1, 1, 1, 1, 1, 1, 1, 1, 1,\n",
       "         1, 1, 1, 1, 1, 1, 1, 1, 1, 1, 1, 1, 1, 1, 1, 1, 1, 1, 1, 1, 1, 1, 1, 1,\n",
       "         1, 1, 1, 1, 1, 1, 1, 1, 1, 1, 1, 1, 1, 1, 1, 1, 1, 1, 1, 1, 1, 1, 1, 1,\n",
       "         1, 1, 1, 1, 1, 1, 1, 1]])}"
      ]
     },
     "execution_count": 12,
     "metadata": {},
     "output_type": "execute_result"
    }
   ],
   "source": [
    "max_tokenizer = tokenizer(processed_conversations, padding=\"max_length\", truncation=True, max_length=512, return_tensors=\"pt\")\n",
    "max_tokenizer"
   ]
  },
  {
   "cell_type": "code",
   "execution_count": 13,
   "metadata": {},
   "outputs": [
    {
     "data": {
      "text/plain": [
       "\"User: Beside OFAC's selective sanction that target the listed individiuals and entities, please elaborate on the other types of US's sanctions, for example, comprehensive and sectoral sanctions. Please be detailed as much as possible\\nAssistant: The United States has a number of different types of sanctions that it can use to achieve its foreign policy goals, including both selective and comprehensive sanctions.\\n\\nSelective sanctions are targeted at specific individuals or entities that are believed to be engaged in activities that are contrary to US interests. These sanctions can take a variety of forms, including asset freezes, travel bans, and restrictions on financial transactions. The Office of Foreign Assets Control (OFAC) is the US government agency responsible for implementing and enforcing these types of sanctions.\\n\\nComprehensive sanctions, on the other hand, are more broadly based and aim to restrict entire sectors of a country's economy or to impose a broad ban on certain types of activities. Comprehensive sanctions can be used to achieve a variety of foreign policy goals, such as punishing a country for human rights abuses or obstructing US foreign policy.\\n\\nSectoral sanctions are a type of comprehensive sanction that target specific sectors of a country's economy. These sanctions are intended to have a broader impact on a country's economy and can be used to target key industries such as oil and gas, banking, or transportation. Sectoral sanctions can include restrictions on the import or export of goods or services, as well as restrictions on investment in certain sectors.\\n\\nAnother type of comprehensive sanction is the ban on US exports to a certain country. This type of sanction can be used to punish a country for engaging in activities that are contrary to US interests, such as selling weapons to terrorist groups or engaging in human rights abuses.\\n\\nIt's worth noting that the US has a wide range of tools at its disposal when it comes to imposing economic sanctions, and the specific type of sanction used will depend on the particular situation and the goals of the US government. Additionally, the US may use a combination of different types of sanctions in order to achieve its objectives.\\nUser: are there other types of US sanctions that you didn't specified earlier? Please elaborate more\\nAssistant: Yes, there are several other types of US sanctions that I haven't mentioned earlier.\\n\\nOne type of sanction that the US uses is the visa ban, which restricts the entry of certain individuals into the US. This type of sanction can be used to punish individuals who are believed to be engaged in activities\""
      ]
     },
     "execution_count": 13,
     "metadata": {},
     "output_type": "execute_result"
    }
   ],
   "source": [
    "de_max_tokenized = tokenizer.decode(max_tokenizer[\"input_ids\"][0])\n",
    "de_max_tokenized"
   ]
  },
  {
   "cell_type": "code",
   "execution_count": 14,
   "metadata": {},
   "outputs": [
    {
     "data": {
      "text/plain": [
       "2653"
      ]
     },
     "execution_count": 14,
     "metadata": {},
     "output_type": "execute_result"
    }
   ],
   "source": [
    "len(de_max_tokenized)"
   ]
  },
  {
   "cell_type": "code",
   "execution_count": 15,
   "metadata": {},
   "outputs": [
    {
     "data": {
      "text/plain": [
       "8304"
      ]
     },
     "execution_count": 15,
     "metadata": {},
     "output_type": "execute_result"
    }
   ],
   "source": [
    "len(de_tokenized)"
   ]
  },
  {
   "cell_type": "code",
   "execution_count": 16,
   "metadata": {},
   "outputs": [
    {
     "data": {
      "text/plain": [
       "[\"User: Beside OFAC's selective sanction that target the listed individiuals and entities, please elaborate on the other types of US's sanctions, for example, comprehensive and sectoral sanctions. Please be detailed as much as possible\\nAssistant: The United States has a number of different types of sanctions that it can use to achieve its foreign policy goals, including both selective and comprehensive sanctions.\\n\\nSelective sanctions are targeted at specific individuals or entities that are believed to be engaged in activities that are contrary to US interests. These sanctions can take a variety of forms, including asset freezes, travel bans, and restrictions on financial transactions. The Office of Foreign Assets Control (OFAC) is the US government agency responsible for implementing and enforcing these types of sanctions.\\n\\nComprehensive sanctions, on the other hand, are more broadly based and aim to restrict entire sectors of a country's economy or to impose a broad ban on certain types of activities. Comprehensive sanctions can be used to achieve a variety of foreign policy goals, such as punishing a country for human rights abuses or obstructing US foreign policy.\\n\\nSectoral sanctions are a type of comprehensive sanction that target specific sectors of a country's economy. These sanctions are intended to have a broader impact on a country's economy and can be used to target key industries such as oil and gas, banking, or transportation. Sectoral sanctions can include restrictions on the import or export of goods or services, as well as restrictions on investment in certain sectors.\\n\\nAnother type of comprehensive sanction is the ban on US exports to a certain country. This type of sanction can be used to punish a country for engaging in activities that are contrary to US interests, such as selling weapons to terrorist groups or engaging in human rights abuses.\\n\\nIt's worth noting that the US has a wide range of tools at its disposal when it comes to imposing economic sanctions, and the specific type of sanction used will depend on the particular situation and the goals of the US government. Additionally, the US may use a combination of different types of sanctions in order to achieve its objectives.\\nUser: are there other types of US sanctions that you didn't specified earlier? Please elaborate more\\nAssistant: Yes, there are several other types of US sanctions that I haven't mentioned earlier.\\n\\nOne type of sanction that the US uses is the visa ban, which restricts the entry of certain individuals into the US. This type of sanction can be used to punish individuals who are believed to be engaged in activities that are contrary to US interests, such as human rights abuses or the proliferation of weapons of mass destruction.\\n\\nAnother type of sanction that the US uses is the exclusion from the US financial system. This type of sanction can be used to prevent individuals or entities from accessing the US financial system, which can have a significant impact on their ability to conduct business.\\n\\nThe US can also impose sanctions on foreign governments, organizations, or individuals by imposing restrictions on their ability to access the US market. This can include restrictions on the import or export of goods or services, as well as restrictions on investment in the US.\\n\\nThe US can also use targeted sanctions against specific individuals or entities, such as imposing asset freezes or travel bans on specific individuals or entities.\\n\\nAnother type of sanction that the US uses is the blocking of property and interests in property. This can include the freezing of assets or the prohibition of transactions involving specific property.\\n\\nFinally, the US can use non-economic sanctions, such as diplomatic isolation, public statements of condemnation, and other measures to isolate or stigmatize a target country or entity.\\n\\nIt's important to note that the US has a wide range of tools at its disposal when it comes to imposing sanctions, and the specific type of sanction used will depend on the particular situation and the goals of the US government.\\nUser: please make organized conclusion in bullet list on all types of US's sanctions that you have had given the answers\\nAssistant: * Selective sanctions: targeted at specific individuals or entities that are believed to be engaged in activities that are contrary to US interests. Examples include asset freezes and travel bans.\\n* Comprehensive sanctions: aim to restrict entire sectors of a country's economy or to impose a broad ban on certain types of activities. Examples include restrictions on the import or export of goods or services, as well as restrictions on investment in certain sectors.\\n* Sectoral sanctions: target specific sectors of a country's economy. Examples include restrictions on the import or export of goods or services, as well as restrictions on investment in certain sectors.\\n* Ban on US exports: used to punish a country for engaging in activities that are contrary to US interests.\\n* Visa ban: restricts the entry of certain individuals into the US. Can be used to punish individuals who are believed to be engaged in activities that are contrary to US interests.\\n* Exclusion from the US financial system: prevents individuals or entities from accessing the US financial system. Can have a significant impact on their ability to conduct business.\\n* Restrictions on access to the US market: can include restrictions on the import or export of goods or services, as well as restrictions on investment in the US.\\n* Targeted sanctions against specific individuals or entities: can include imposing asset freezes or travel bans on specific individuals or entities.\\n* Blocking of property and interests in property: can include the freezing of assets or the prohibition of transactions involving specific property.\\n* Non-economic sanctions: can include diplomatic isolation, public statements of condemnation, and other measures to isolate or stigmatize a target country or entity.\\n\\nIt's important to note that the US has a wide range of tools at its disposal when it comes to imposing sanctions, and the specific type of sanction used will depend on the particular situation and the goals of the US government.\\nUser: can you please revise the answer above again, but this time, make sure to specify which types of sanctions are the sub-category\\nAssistant: Sure, here is a revised list of the different types of US sanctions, with the sub-categories included:\\n\\n* Selective sanctions:\\n\\t+ Targeted: aimed at specific individuals or entities\\n\\t+ Comprehensive: aimed at entire sectors of a country's economy or at broadly banning certain activities\\n* Comprehensive sanctions:\\n\\t+ Sectoral: target specific sectors of a country's economy\\n* Sectoral sanctions:\\n\\t+ Targeted: aimed at specific sectors of a country's economy\\n* Ban on US exports:\\n\\t+ Used to punish a country for engaging in activities that are contrary to US interests\\n* Visa ban:\\n\\t+ Used to restrict the entry of certain individuals into the US\\n* Exclusion from the US financial system:\\n\\t+ Prevents individuals or entities from accessing the US financial system\\n* Restrictions on access to the US market:\\n\\t+ Can include restrictions on the import or export of goods or services, as well as restrictions on investment in the US\\n* Targeted sanctions against specific individuals or entities:\\n\\t+ Imposing asset freezes or travel bans on specific individuals or entities\\n* Blocking of property and interests in property:\\n\\t+ Freezing of assets or prohibition of transactions involving specific property\\n* Non-economic sanctions:\\n\\t+ Diplomatic isolation, public statements of condemnation, and other measures to isolate or stigmatize a target country or entity\\n\\nIt's important to note that the US has a wide range of tools at its disposal when it comes to imposing sanctions, and the specific type of sanction used will depend on the particular situation and the goals of the US government.\\nUser: if you see a person name stating that it is the registrar of a company in Malta, is registrar is a position and if so, what does he/she do?\\nAssistant: \\nUser: if you see a person's name stating that it is the registrar of a company in Malta, is registrar a position in that company? and if so, what does he/she do?\\nAssistant:\"]"
      ]
     },
     "execution_count": 16,
     "metadata": {},
     "output_type": "execute_result"
    }
   ],
   "source": [
    "tokenizer.eos_token = \"<|endoftext|>\"\n",
    "tokenizer.bos_token = \"<|startoftext|>\"\n",
    "processed_conv = tokenizer.bos_token + \" \" \n",
    "skip_conversation = False\n",
    "for turn in sample2:\n",
    "    if turn['role'] == 'user':\n",
    "        processed_conv += f\"Human: {turn['content']}\\n\"\n",
    "    elif turn['role'] == 'assistant':\n",
    "        if not turn['content'].strip():  # Check if the assistant's response is empty\n",
    "            skip_conversation = True\n",
    "            break\n",
    "        processed_conv += f\"Assistant: {turn['content']}\\n\"\n",
    "\n",
    "if not skip_conversation:\n",
    "    processed_conv += \" \" + tokenizer.eos_token  # End token at the end of each conversation\n",
    "    processed_conversations.append(processed_conv.strip())\n",
    "\n",
    "processed_conversations"
   ]
  },
  {
   "cell_type": "code",
   "execution_count": 24,
   "metadata": {},
   "outputs": [],
   "source": [
    "tok = tokenizer(processed_conversations, padding=True, truncation=True, return_tensors=\"pt\")"
   ]
  },
  {
   "cell_type": "code",
   "execution_count": 25,
   "metadata": {},
   "outputs": [
    {
     "data": {
      "text/plain": [
       "{'input_ids': tensor([[ 6989,    27, 33007,  ...,  6717,  5567,    27]]), 'attention_mask': tensor([[1, 1, 1,  ..., 1, 1, 1]])}"
      ]
     },
     "execution_count": 25,
     "metadata": {},
     "output_type": "execute_result"
    }
   ],
   "source": [
    "tok"
   ]
  },
  {
   "cell_type": "code",
   "execution_count": 27,
   "metadata": {},
   "outputs": [
    {
     "name": "stdout",
     "output_type": "stream",
     "text": [
      "Original conversation:\n",
      "[{'content': \"Beside OFAC's selective sanction that target the listed individiuals and entities, please elaborate on the other types of US's sanctions, for example, comprehensive and sectoral sanctions. Please be detailed as much as possible\", 'role': 'user'}, {'content': \"The United States has a number of different types of sanctions that it can use to achieve its foreign policy goals, including both selective and comprehensive sanctions.\\n\\nSelective sanctions are targeted at specific individuals or entities that are believed to be engaged in activities that are contrary to US interests. These sanctions can take a variety of forms, including asset freezes, travel bans, and restrictions on financial transactions. The Office of Foreign Assets Control (OFAC) is the US government agency responsible for implementing and enforcing these types of sanctions.\\n\\nComprehensive sanctions, on the other hand, are more broadly based and aim to restrict entire sectors of a country's economy or to impose a broad ban on certain types of activities. Comprehensive sanctions can be used to achieve a variety of foreign policy goals, such as punishing a country for human rights abuses or obstructing US foreign policy.\\n\\nSectoral sanctions are a type of comprehensive sanction that target specific sectors of a country's economy. These sanctions are intended to have a broader impact on a country's economy and can be used to target key industries such as oil and gas, banking, or transportation. Sectoral sanctions can include restrictions on the import or export of goods or services, as well as restrictions on investment in certain sectors.\\n\\nAnother type of comprehensive sanction is the ban on US exports to a certain country. This type of sanction can be used to punish a country for engaging in activities that are contrary to US interests, such as selling weapons to terrorist groups or engaging in human rights abuses.\\n\\nIt's worth noting that the US has a wide range of tools at its disposal when it comes to imposing economic sanctions, and the specific type of sanction used will depend on the particular situation and the goals of the US government. Additionally, the US may use a combination of different types of sanctions in order to achieve its objectives.\", 'role': 'assistant'}, {'content': \"are there other types of US sanctions that you didn't specified earlier? Please elaborate more\", 'role': 'user'}, {'content': \"Yes, there are several other types of US sanctions that I haven't mentioned earlier.\\n\\nOne type of sanction that the US uses is the visa ban, which restricts the entry of certain individuals into the US. This type of sanction can be used to punish individuals who are believed to be engaged in activities that are contrary to US interests, such as human rights abuses or the proliferation of weapons of mass destruction.\\n\\nAnother type of sanction that the US uses is the exclusion from the US financial system. This type of sanction can be used to prevent individuals or entities from accessing the US financial system, which can have a significant impact on their ability to conduct business.\\n\\nThe US can also impose sanctions on foreign governments, organizations, or individuals by imposing restrictions on their ability to access the US market. This can include restrictions on the import or export of goods or services, as well as restrictions on investment in the US.\\n\\nThe US can also use targeted sanctions against specific individuals or entities, such as imposing asset freezes or travel bans on specific individuals or entities.\\n\\nAnother type of sanction that the US uses is the blocking of property and interests in property. This can include the freezing of assets or the prohibition of transactions involving specific property.\\n\\nFinally, the US can use non-economic sanctions, such as diplomatic isolation, public statements of condemnation, and other measures to isolate or stigmatize a target country or entity.\\n\\nIt's important to note that the US has a wide range of tools at its disposal when it comes to imposing sanctions, and the specific type of sanction used will depend on the particular situation and the goals of the US government.\", 'role': 'assistant'}, {'content': \"please make organized conclusion in bullet list on all types of US's sanctions that you have had given the answers\", 'role': 'user'}, {'content': \"* Selective sanctions: targeted at specific individuals or entities that are believed to be engaged in activities that are contrary to US interests. Examples include asset freezes and travel bans.\\n* Comprehensive sanctions: aim to restrict entire sectors of a country's economy or to impose a broad ban on certain types of activities. Examples include restrictions on the import or export of goods or services, as well as restrictions on investment in certain sectors.\\n* Sectoral sanctions: target specific sectors of a country's economy. Examples include restrictions on the import or export of goods or services, as well as restrictions on investment in certain sectors.\\n* Ban on US exports: used to punish a country for engaging in activities that are contrary to US interests.\\n* Visa ban: restricts the entry of certain individuals into the US. Can be used to punish individuals who are believed to be engaged in activities that are contrary to US interests.\\n* Exclusion from the US financial system: prevents individuals or entities from accessing the US financial system. Can have a significant impact on their ability to conduct business.\\n* Restrictions on access to the US market: can include restrictions on the import or export of goods or services, as well as restrictions on investment in the US.\\n* Targeted sanctions against specific individuals or entities: can include imposing asset freezes or travel bans on specific individuals or entities.\\n* Blocking of property and interests in property: can include the freezing of assets or the prohibition of transactions involving specific property.\\n* Non-economic sanctions: can include diplomatic isolation, public statements of condemnation, and other measures to isolate or stigmatize a target country or entity.\\n\\nIt's important to note that the US has a wide range of tools at its disposal when it comes to imposing sanctions, and the specific type of sanction used will depend on the particular situation and the goals of the US government.\", 'role': 'assistant'}, {'content': 'can you please revise the answer above again, but this time, make sure to specify which types of sanctions are the sub-category', 'role': 'user'}, {'content': \"Sure, here is a revised list of the different types of US sanctions, with the sub-categories included:\\n\\n* Selective sanctions:\\n\\t+ Targeted: aimed at specific individuals or entities\\n\\t+ Comprehensive: aimed at entire sectors of a country's economy or at broadly banning certain activities\\n* Comprehensive sanctions:\\n\\t+ Sectoral: target specific sectors of a country's economy\\n* Sectoral sanctions:\\n\\t+ Targeted: aimed at specific sectors of a country's economy\\n* Ban on US exports:\\n\\t+ Used to punish a country for engaging in activities that are contrary to US interests\\n* Visa ban:\\n\\t+ Used to restrict the entry of certain individuals into the US\\n* Exclusion from the US financial system:\\n\\t+ Prevents individuals or entities from accessing the US financial system\\n* Restrictions on access to the US market:\\n\\t+ Can include restrictions on the import or export of goods or services, as well as restrictions on investment in the US\\n* Targeted sanctions against specific individuals or entities:\\n\\t+ Imposing asset freezes or travel bans on specific individuals or entities\\n* Blocking of property and interests in property:\\n\\t+ Freezing of assets or prohibition of transactions involving specific property\\n* Non-economic sanctions:\\n\\t+ Diplomatic isolation, public statements of condemnation, and other measures to isolate or stigmatize a target country or entity\\n\\nIt's important to note that the US has a wide range of tools at its disposal when it comes to imposing sanctions, and the specific type of sanction used will depend on the particular situation and the goals of the US government.\", 'role': 'assistant'}, {'content': 'if you see a person name stating that it is the registrar of a company in Malta, is registrar is a position and if so, what does he/she do?', 'role': 'user'}, {'content': '', 'role': 'assistant'}, {'content': \"if you see a person's name stating that it is the registrar of a company in Malta, is registrar a position in that company? and if so, what does he/she do?\", 'role': 'user'}, {'content': '', 'role': 'assistant'}]\n",
      "\n",
      "==================================================\n",
      "\n",
      "Processed conversation:\n",
      "This conversation was skipped due to empty assistant response.\n",
      "\n",
      "==================================================\n",
      "\n",
      "Metadata:\n"
     ]
    },
    {
     "ename": "TypeError",
     "evalue": "list indices must be integers or slices, not str",
     "output_type": "error",
     "traceback": [
      "\u001b[0;31m---------------------------------------------------------------------------\u001b[0m",
      "\u001b[0;31mTypeError\u001b[0m                                 Traceback (most recent call last)",
      "Cell \u001b[0;32mIn[27], line 36\u001b[0m\n\u001b[1;32m     33\u001b[0m \u001b[38;5;28mprint\u001b[39m(\u001b[38;5;124m\"\u001b[39m\u001b[38;5;130;01m\\n\u001b[39;00m\u001b[38;5;124m\"\u001b[39m \u001b[38;5;241m+\u001b[39m \u001b[38;5;124m\"\u001b[39m\u001b[38;5;124m=\u001b[39m\u001b[38;5;124m\"\u001b[39m\u001b[38;5;241m*\u001b[39m\u001b[38;5;241m50\u001b[39m \u001b[38;5;241m+\u001b[39m \u001b[38;5;124m\"\u001b[39m\u001b[38;5;130;01m\\n\u001b[39;00m\u001b[38;5;124m\"\u001b[39m)\n\u001b[1;32m     35\u001b[0m \u001b[38;5;28mprint\u001b[39m(\u001b[38;5;124m\"\u001b[39m\u001b[38;5;124mMetadata:\u001b[39m\u001b[38;5;124m\"\u001b[39m)\n\u001b[0;32m---> 36\u001b[0m \u001b[38;5;28mprint\u001b[39m(\u001b[38;5;124mf\u001b[39m\u001b[38;5;124m\"\u001b[39m\u001b[38;5;124mConversation ID: \u001b[39m\u001b[38;5;132;01m{\u001b[39;00m\u001b[43msample\u001b[49m\u001b[43m[\u001b[49m\u001b[38;5;124;43m'\u001b[39;49m\u001b[38;5;124;43mconversation_id\u001b[39;49m\u001b[38;5;124;43m'\u001b[39;49m\u001b[43m]\u001b[49m\u001b[38;5;132;01m}\u001b[39;00m\u001b[38;5;124m\"\u001b[39m)\n\u001b[1;32m     37\u001b[0m \u001b[38;5;28mprint\u001b[39m(\u001b[38;5;124mf\u001b[39m\u001b[38;5;124m\"\u001b[39m\u001b[38;5;124mModel: \u001b[39m\u001b[38;5;132;01m{\u001b[39;00msample[\u001b[38;5;124m'\u001b[39m\u001b[38;5;124mmodel\u001b[39m\u001b[38;5;124m'\u001b[39m]\u001b[38;5;132;01m}\u001b[39;00m\u001b[38;5;124m\"\u001b[39m)\n\u001b[1;32m     38\u001b[0m \u001b[38;5;28mprint\u001b[39m(\u001b[38;5;124mf\u001b[39m\u001b[38;5;124m\"\u001b[39m\u001b[38;5;124mLanguage: \u001b[39m\u001b[38;5;132;01m{\u001b[39;00msample[\u001b[38;5;124m'\u001b[39m\u001b[38;5;124mlanguage\u001b[39m\u001b[38;5;124m'\u001b[39m]\u001b[38;5;132;01m}\u001b[39;00m\u001b[38;5;124m\"\u001b[39m)\n",
      "\u001b[0;31mTypeError\u001b[0m: list indices must be integers or slices, not str"
     ]
    }
   ],
   "source": [
    "from datasets import load_dataset\n",
    "\n",
    "def preprocess_single_conversation(conversation):\n",
    "    processed_conv = \"\"\n",
    "    skip_conversation = False\n",
    "    for turn in conversation:\n",
    "        if turn['role'] == 'user':\n",
    "            processed_conv += f\"Human: {turn['content']}\\n\"\n",
    "        elif turn['role'] == 'assistant':\n",
    "            if not turn['content'].strip():  # Check if the assistant's response is empty\n",
    "                skip_conversation = True\n",
    "                break\n",
    "            processed_conv += f\"Assistant: {turn['content']}\\n\"\n",
    "    \n",
    "    return None if skip_conversation else processed_conv.strip()\n",
    "\n",
    "# Load the dataset\n",
    "sample = sample2\n",
    "\n",
    "print(\"Original conversation:\")\n",
    "print(sample)\n",
    "print(\"\\n\" + \"=\"*50 + \"\\n\")\n",
    "\n",
    "# Process the single conversation\n",
    "processed = preprocess_single_conversation(sample)\n",
    "\n",
    "print(\"Processed conversation:\")\n",
    "if processed is None:\n",
    "    print(\"This conversation was skipped due to empty assistant response.\")\n",
    "else:\n",
    "    print(processed)\n"
   ]
  },
  {
   "cell_type": "code",
   "execution_count": 18,
   "metadata": {},
   "outputs": [
    {
     "name": "stderr",
     "output_type": "stream",
     "text": [
      "Special tokens have been added in the vocabulary, make sure the associated word embeddings are fine-tuned or trained.\n",
      "Asking to truncate to max_length but no maximum length is provided and the model has no predefined maximum length. Default to no truncation.\n"
     ]
    },
    {
     "name": "stdout",
     "output_type": "stream",
     "text": [
      "Processed conversation:\n",
      "H: Hello, how are you?\n",
      "A: I'm doing well, thank you for asking. How can I assist you today?\n",
      "H: Can you explain what machine learning is?\n",
      "A: Certainly! Machine learning is a subset of artificial intelligence...\n",
      "<|endoftext|>\n",
      "\n",
      "Tokenized output:\n",
      "Input IDs shape: torch.Size([1, 55])\n",
      "Attention mask shape: torch.Size([1, 55])\n",
      "\n",
      "Decoded tokenized output:\n",
      "H: Hello, how are you?\n",
      "A: I'm doing well, thank you for asking. How can I assist you today?\n",
      "H: Can you explain what machine learning is?\n",
      "A: Certainly! Machine learning is a subset of artificial intelligence...\n",
      "<|endoftext|>\n"
     ]
    }
   ],
   "source": [
    "from transformers import AutoTokenizer\n",
    "\n",
    "def preprocess_function(conversation):\n",
    "    processed_conv = \"\"\n",
    "    \n",
    "    tokenizer = AutoTokenizer.from_pretrained(\"EleutherAI/gpt-neox-20b\") \n",
    "    tokenizer.eos_token = \"<|endoftext|>\"\n",
    "    tokenizer.pad_token = tokenizer.eos_token\n",
    "    \n",
    "    for turn in conversation:\n",
    "        if turn['role'] == 'user':\n",
    "            processed_conv += f\"H: {turn['content'].strip()}\\n\"\n",
    "        elif turn['role'] == 'assistant':\n",
    "            processed_conv += f\"A: {turn['content'].strip()}\\n\"\n",
    "    \n",
    "    processed_conv += tokenizer.eos_token  # End token at the end of the conversation\n",
    "    \n",
    "    tokenized = tokenizer(processed_conv, padding=True, truncation=True, return_tensors=\"pt\")\n",
    "    \n",
    "    return processed_conv, tokenized\n",
    "\n",
    "def test_preprocessing():\n",
    "    # Sample conversation\n",
    "    sample_conversation = [\n",
    "        {\"role\": \"user\", \"content\": \"Hello, how are you?\"},\n",
    "        {\"role\": \"assistant\", \"content\": \"I'm doing well, thank you for asking. How can I assist you today?\"},\n",
    "        {\"role\": \"user\", \"content\": \"Can you explain what machine learning is?\"},\n",
    "        {\"role\": \"assistant\", \"content\": \"Certainly! Machine learning is a subset of artificial intelligence...\"}\n",
    "    ]\n",
    "\n",
    "    # Apply preprocessing\n",
    "    processed_conv, tokenized = preprocess_function(sample_conversation)\n",
    "\n",
    "    # Print results\n",
    "    print(\"Processed conversation:\")\n",
    "    print(processed_conv)\n",
    "    print(\"\\nTokenized output:\")\n",
    "    print(f\"Input IDs shape: {tokenized['input_ids'].shape}\")\n",
    "    print(f\"Attention mask shape: {tokenized['attention_mask'].shape}\")\n",
    "\n",
    "    # Decode the tokenized output to verify\n",
    "    decoded = tokenizer.decode(tokenized['input_ids'][0])\n",
    "    print(\"\\nDecoded tokenized output:\")\n",
    "    print(decoded)\n",
    "\n",
    "# Run the test\n",
    "test_preprocessing()"
   ]
  },
  {
   "cell_type": "code",
   "execution_count": null,
   "metadata": {},
   "outputs": [],
   "source": []
  }
 ],
 "metadata": {
  "kernelspec": {
   "display_name": "venv",
   "language": "python",
   "name": "python3"
  },
  "language_info": {
   "codemirror_mode": {
    "name": "ipython",
    "version": 3
   },
   "file_extension": ".py",
   "mimetype": "text/x-python",
   "name": "python",
   "nbconvert_exporter": "python",
   "pygments_lexer": "ipython3",
   "version": "3.12.3"
  }
 },
 "nbformat": 4,
 "nbformat_minor": 2
}
